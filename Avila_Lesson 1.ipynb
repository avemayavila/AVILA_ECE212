{
 "cells": [
  {
   "cell_type": "markdown",
   "metadata": {},
   "source": [
    "# Lesson 1: Introduction to Python"
   ]
  },
  {
   "cell_type": "markdown",
   "metadata": {},
   "source": [
    "### Ask\tyourself:"
   ]
  },
  {
   "cell_type": "markdown",
   "metadata": {},
   "source": [
    "##### 1. Why do you think Python is the most applicable programming language for scientific computing? \n",
    "* Python is the most applicable programming language for scientific computing because aside from the fact that it is available on many operating systems, it is also much more flexible, easier to use, and unlike other programming languages, python does not limit the user in writing scientific applications. "
   ]
  },
  {
   "cell_type": "markdown",
   "metadata": {},
   "source": [
    "##### 2. If\tPython\tcan\tbuild\tanything,\twhere\tdo\tyou\tthink\tPython\tis\tnot\tapplicable\tfor?\n",
    "* Python is not a good choice for mobile development and for any memory intensive tasks. "
   ]
  },
  {
   "cell_type": "markdown",
   "metadata": {},
   "source": [
    "### Exercise 1:\tMailing\tAddress\t(Solved,\t9\tLines)\n",
    "##### Create\ta\tprogram\tthat\tdisplays\tyour\tname\tand\tcomplete\tmailing\taddress.\tThe\taddress should\tbe\tprinted\tin\tthe\tformat\tthat\tis\tnormally\tused\tin\tthe\tarea\twhere\tyou\tlive.Your program\tdoes\tnot\tneed\tto\tread\tany\tinput\tfrom\tthe\tuser."
   ]
  },
  {
   "cell_type": "code",
   "execution_count": 1,
   "metadata": {},
   "outputs": [
    {
     "name": "stdout",
     "output_type": "stream",
     "text": [
      "Ave MayT. Avila\n",
      "Purok 1 Loceta\n",
      "Cebulano\n",
      "Carmen, Davao del Norte\n",
      "Philippines\n"
     ]
    }
   ],
   "source": [
    "print(\"Ave MayT. Avila\")\n",
    "print (\"Purok 1 Loceta\")\n",
    "print (\"Cebulano\")\n",
    "print (\"Carmen, Davao del Norte\")\n",
    "print (\"Philippines\")"
   ]
  },
  {
   "cell_type": "markdown",
   "metadata": {},
   "source": [
    "### Exercise\t2:\tArea\tof\ta\tRoom\t(Solved,\t13\tLines)\n",
    "##### Write a\tprogram\tthat\tasks\tthe\tuser\tto\tenter\tthe\twidth\tand\tlength\tof\ta\troom.\tOnce these\tvalues\thave\tbeen\tread,\tyour\tprogram\tshould\tcompute\tand\tdisplay\tthe\tarea\tof the\troom.\tThe\tlength\tand\tthe\twidth\twill\tbe\tentered\tas\tfloating-point\tnumbers.\tInclude units\tin\tyour\tprompt\tand\toutput\tmessage;\teither\tfeet\tor\tmeters,\tdepending\ton\twhich unit\tyou\tare\tmore\tcomfortable\tworking\twith."
   ]
  },
  {
   "cell_type": "code",
   "execution_count": null,
   "metadata": {},
   "outputs": [],
   "source": [
    "#Compute the area of room \n",
    "\n",
    "#read the dimensions from the user\n",
    "lenght =  float(input(\"Enter the lenght the room in ft\"))\n",
    "width = float(input(\"Enter the width off the room in ft\"))\n",
    "\n",
    "#Compute the area of the room\n",
    "area = lenght * width\n",
    "\n",
    "#display of result\n",
    "print(\"The area of the room is\", area, \"square feet\")"
   ]
  },
  {
   "cell_type": "markdown",
   "metadata": {},
   "source": [
    "### Exercise\t3:\tArithmetic\t(Solved,\t22\tLines)\n",
    "##### Create\ta\tprogram\tthat\treads\ttwo integers,\ta\tand\tb,\tfrom\tthe\tuser.\tYour\tprogram\tshould compute\tand\tdisplay: \n",
    "* The\tsum\tof\ta\tand\tb \n",
    "* The\tdifference\twhen\tb\tis\tsubtracted\tfrom\ta \n",
    "* The\tproduct\tof\ta\tand\tb \n",
    "* The\tquotient\twhen\ta\tis\tdivided\tby\tb \n",
    "* The\tremainder\twhen\ta\tis\tdivided\tby\tb \n",
    "* The\tresult\tof\tlog10\ta \n",
    "* The\tresult\tof\tab\n",
    "\n",
    "##### Hint:\tYou\twill\tprobably\tfind\tthe\tlog10\tfunction\tin\tthe\tmath\tmodule\thelpful for\tcomputing\tthe\tsecond\tlast\titem\tin\tthe\tlist."
   ]
  },
  {
   "cell_type": "code",
   "execution_count": null,
   "metadata": {},
   "outputs": [],
   "source": [
    "import math\n",
    "#Reading numbers from user\n",
    "a = int(input(\"Enter first number: \"))\n",
    "b = int(input(\"Enter second number: \"))\n",
    "#Calculating and printing sum\n",
    "print(a,\"+\",b,\"=\",a+b)\n",
    "#Calculating and printing difference\n",
    "print(a,\"-\",b,\"=\",a-b)\n",
    "#Calculating and printing Quotient\n",
    "print(a,\"/\",b,\"=\",a/b)\n",
    "#Calculating and printing product\n",
    "print(a,\"*\",b,\"=\",a*b)\n",
    "#Calculating and printing remainder\n",
    "print(a,\"%\",b,\"=\",a%b)\n",
    "#Calculating and printing log10 a\n",
    "print (\"math.log10(a) : \", math.log10(a))\n",
    "#Calculating and printing log10ab\n",
    "print (\"math.log10(ab) : \", math.log10(a)+ math.log10(b))\n"
   ]
  },
  {
   "cell_type": "markdown",
   "metadata": {},
   "source": [
    "### Exercise\t4:\tArea\tand\tVolume\t(15\tLines)\n",
    "##### Write\ta\tprogram\tthat\tbegins\tby\treading\ta\tradius,\tr,\tfrom\tthe\tuser.\tThe\tprogram\twill continue\tby\tcomputing\tand\tdisplaying\tthe\tarea\tof\ta\tcircle\twith\tradius\tr\tand\tthevolume\tof\ta\tsphere\twith\tradius\tr.\tUse\tthe\tpi\tconstant\tin\tthe\tmath\tmodule\tin\tyour calculations. Hint:\tThe\tarea\tof\ta\tcircle\tis\tcomputed\tusing\tthe\tformula\tarea\t=\tπr\t2.\tThe volume\tof\ta\tsphere\tis\tcomputed\tusing\tthe\tformula\tvolume  $=\\frac{4}{3} \\pi r^{3}$"
   ]
  },
  {
   "cell_type": "code",
   "execution_count": null,
   "metadata": {},
   "outputs": [],
   "source": [
    "# Read radius\n",
    "    radius = float(input(\"\\nEnter the radius: \"))\n",
    "    pi = 3.142\n",
    "    # Calculate area of the circle and volume of shpere\n",
    "    area_circle = pi * radius * radius\n",
    "    volume_sphere = 4/3 * pi * radius * radius * radius\n",
    "    # Display the result with radius\n",
    "    print(\"Area of the circle of radius\",round(radius,2),\"is:\",round(area_circle,2))\n",
    "    print(\"Volume of the sphere of radius\",round(radius,2),\"is:\",round(volume_sphere,2))"
   ]
  },
  {
   "cell_type": "code",
   "execution_count": null,
   "metadata": {},
   "outputs": [],
   "source": []
  }
 ],
 "metadata": {
  "kernelspec": {
   "display_name": "Python 3",
   "language": "python",
   "name": "python3"
  },
  "language_info": {
   "codemirror_mode": {
    "name": "ipython",
    "version": 3
   },
   "file_extension": ".py",
   "mimetype": "text/x-python",
   "name": "python",
   "nbconvert_exporter": "python",
   "pygments_lexer": "ipython3",
   "version": "3.8.3"
  }
 },
 "nbformat": 4,
 "nbformat_minor": 4
}
